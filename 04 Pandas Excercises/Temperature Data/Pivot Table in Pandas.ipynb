{
 "cells": [
  {
   "cell_type": "code",
   "execution_count": 1,
   "metadata": {},
   "outputs": [],
   "source": [
    "import pandas as pd"
   ]
  },
  {
   "cell_type": "code",
   "execution_count": 3,
   "metadata": {},
   "outputs": [],
   "source": [
    "df = pd.read_csv(\"GlobalLandTemperaturesByMajorCity.csv\")"
   ]
  },
  {
   "cell_type": "code",
   "execution_count": 15,
   "metadata": {},
   "outputs": [
    {
     "data": {
      "text/html": [
       "<div>\n",
       "<style scoped>\n",
       "    .dataframe tbody tr th:only-of-type {\n",
       "        vertical-align: middle;\n",
       "    }\n",
       "\n",
       "    .dataframe tbody tr th {\n",
       "        vertical-align: top;\n",
       "    }\n",
       "\n",
       "    .dataframe thead th {\n",
       "        text-align: right;\n",
       "    }\n",
       "</style>\n",
       "<table border=\"1\" class=\"dataframe\">\n",
       "  <thead>\n",
       "    <tr style=\"text-align: right;\">\n",
       "      <th></th>\n",
       "      <th></th>\n",
       "      <th>AverageTemperature</th>\n",
       "      <th>AverageTemperatureUncertainty</th>\n",
       "    </tr>\n",
       "    <tr>\n",
       "      <th>Country</th>\n",
       "      <th>City</th>\n",
       "      <th></th>\n",
       "      <th></th>\n",
       "    </tr>\n",
       "  </thead>\n",
       "  <tbody>\n",
       "    <tr>\n",
       "      <th>Afghanistan</th>\n",
       "      <th>Kabul</th>\n",
       "      <td>14.342919</td>\n",
       "      <td>0.948359</td>\n",
       "    </tr>\n",
       "    <tr>\n",
       "      <th>Angola</th>\n",
       "      <th>Luanda</th>\n",
       "      <td>23.693046</td>\n",
       "      <td>0.745803</td>\n",
       "    </tr>\n",
       "    <tr>\n",
       "      <th rowspan=\"2\" valign=\"top\">Australia</th>\n",
       "      <th>Melbourne</th>\n",
       "      <td>13.374304</td>\n",
       "      <td>0.568205</td>\n",
       "    </tr>\n",
       "    <tr>\n",
       "      <th>Sydney</th>\n",
       "      <td>17.002299</td>\n",
       "      <td>0.598327</td>\n",
       "    </tr>\n",
       "    <tr>\n",
       "      <th>Bangladesh</th>\n",
       "      <th>Dhaka</th>\n",
       "      <td>25.490568</td>\n",
       "      <td>0.867069</td>\n",
       "    </tr>\n",
       "  </tbody>\n",
       "</table>\n",
       "</div>"
      ],
      "text/plain": [
       "                       AverageTemperature  AverageTemperatureUncertainty\n",
       "Country     City                                                        \n",
       "Afghanistan Kabul               14.342919                       0.948359\n",
       "Angola      Luanda              23.693046                       0.745803\n",
       "Australia   Melbourne           13.374304                       0.568205\n",
       "            Sydney              17.002299                       0.598327\n",
       "Bangladesh  Dhaka               25.490568                       0.867069"
      ]
     },
     "execution_count": 15,
     "metadata": {},
     "output_type": "execute_result"
    }
   ],
   "source": [
    "#df.pivot_table(df, index = [\"Country\"])\n",
    "#Indexe können auch als Liste übergeben werden\n",
    "pivot = df.pivot_table(df, index = [\"Country\" , \"City\"])\n",
    "pivot.head()"
   ]
  },
  {
   "cell_type": "code",
   "execution_count": 60,
   "metadata": {},
   "outputs": [
    {
     "data": {
      "text/html": [
       "<div>\n",
       "<style scoped>\n",
       "    .dataframe tbody tr th:only-of-type {\n",
       "        vertical-align: middle;\n",
       "    }\n",
       "\n",
       "    .dataframe tbody tr th {\n",
       "        vertical-align: top;\n",
       "    }\n",
       "\n",
       "    .dataframe thead th {\n",
       "        text-align: right;\n",
       "    }\n",
       "</style>\n",
       "<table border=\"1\" class=\"dataframe\">\n",
       "  <thead>\n",
       "    <tr style=\"text-align: right;\">\n",
       "      <th></th>\n",
       "      <th>dt</th>\n",
       "      <th>AverageTemperature</th>\n",
       "      <th>AverageTemperatureUncertainty</th>\n",
       "      <th>City</th>\n",
       "      <th>Country</th>\n",
       "      <th>Latitude</th>\n",
       "      <th>Longitude</th>\n",
       "    </tr>\n",
       "  </thead>\n",
       "  <tbody>\n",
       "    <tr>\n",
       "      <th>22319</th>\n",
       "      <td>1832-01-01</td>\n",
       "      <td>22.516</td>\n",
       "      <td>1.556</td>\n",
       "      <td>Belo Horizonte</td>\n",
       "      <td>Brazil</td>\n",
       "      <td>20.09S</td>\n",
       "      <td>44.36W</td>\n",
       "    </tr>\n",
       "    <tr>\n",
       "      <th>32629</th>\n",
       "      <td>1832-01-01</td>\n",
       "      <td>21.873</td>\n",
       "      <td>1.604</td>\n",
       "      <td>Brasília</td>\n",
       "      <td>Brazil</td>\n",
       "      <td>15.27S</td>\n",
       "      <td>47.50W</td>\n",
       "    </tr>\n",
       "    <tr>\n",
       "      <th>183791</th>\n",
       "      <td>1832-01-01</td>\n",
       "      <td>25.320</td>\n",
       "      <td>1.508</td>\n",
       "      <td>Rio De Janeiro</td>\n",
       "      <td>Brazil</td>\n",
       "      <td>23.31S</td>\n",
       "      <td>42.82W</td>\n",
       "    </tr>\n",
       "    <tr>\n",
       "      <th>191260</th>\n",
       "      <td>1832-01-01</td>\n",
       "      <td>22.288</td>\n",
       "      <td>1.587</td>\n",
       "      <td>São Paulo</td>\n",
       "      <td>Brazil</td>\n",
       "      <td>23.31S</td>\n",
       "      <td>46.31W</td>\n",
       "    </tr>\n",
       "    <tr>\n",
       "      <th>196680</th>\n",
       "      <td>1832-01-01</td>\n",
       "      <td>25.593</td>\n",
       "      <td>1.554</td>\n",
       "      <td>Salvador</td>\n",
       "      <td>Brazil</td>\n",
       "      <td>13.66S</td>\n",
       "      <td>38.81W</td>\n",
       "    </tr>\n",
       "  </tbody>\n",
       "</table>\n",
       "</div>"
      ],
      "text/plain": [
       "                dt  AverageTemperature  AverageTemperatureUncertainty  \\\n",
       "22319   1832-01-01              22.516                          1.556   \n",
       "32629   1832-01-01              21.873                          1.604   \n",
       "183791  1832-01-01              25.320                          1.508   \n",
       "191260  1832-01-01              22.288                          1.587   \n",
       "196680  1832-01-01              25.593                          1.554   \n",
       "\n",
       "                  City Country Latitude Longitude  \n",
       "22319   Belo Horizonte  Brazil   20.09S    44.36W  \n",
       "32629         Brasília  Brazil   15.27S    47.50W  \n",
       "183791  Rio De Janeiro  Brazil   23.31S    42.82W  \n",
       "191260       São Paulo  Brazil   23.31S    46.31W  \n",
       "196680        Salvador  Brazil   13.66S    38.81W  "
      ]
     },
     "execution_count": 60,
     "metadata": {},
     "output_type": "execute_result"
    }
   ],
   "source": [
    "df[(df[\"Country\"] == \"Brazil\") & (df[\"dt\"] == \"1832-01-01\")]"
   ]
  },
  {
   "cell_type": "code",
   "execution_count": 35,
   "metadata": {},
   "outputs": [],
   "source": [
    "#Wenn man sich nur eine Spalte ausgeben lässt, wird das df automatisch zu einer Series\n",
    "pivot2 = df.pivot_table(df, index = [\"Country\" , \"City\"])"
   ]
  },
  {
   "cell_type": "code",
   "execution_count": 38,
   "metadata": {},
   "outputs": [
    {
     "data": {
      "text/plain": [
       "AverageTemperature               float64\n",
       "AverageTemperatureUncertainty    float64\n",
       "dtype: object"
      ]
     },
     "execution_count": 38,
     "metadata": {},
     "output_type": "execute_result"
    }
   ],
   "source": [
    "pivot2.dtypes"
   ]
  },
  {
   "cell_type": "code",
   "execution_count": 61,
   "metadata": {
    "scrolled": false
   },
   "outputs": [],
   "source": [
    "#Funktioniert nichtm wenn das File gerade geöffnet ist\n",
    "#Bei float_format='%.2f' erkennt Excel die Zahlen teilweise fälschlicherweise als Datum\n",
    "#Wie Umlaute korrekt abspeichern?\n",
    "pivot2.to_csv(\"First Pivot Table in Pandas.csv\", float_format='%.3f', sep=\";\",  encoding='utf-8')"
   ]
  },
  {
   "cell_type": "code",
   "execution_count": 34,
   "metadata": {
    "scrolled": true
   },
   "outputs": [
    {
     "data": {
      "text/plain": [
       "count    100.000000\n",
       "mean      18.775863\n",
       "std        7.308048\n",
       "min        3.625744\n",
       "25%       12.408374\n",
       "50%       20.331955\n",
       "75%       25.531680\n",
       "max       29.081291\n",
       "Name: AverageTemperature, dtype: float64"
      ]
     },
     "execution_count": 34,
     "metadata": {},
     "output_type": "execute_result"
    }
   ],
   "source": [
    "pivot2.describe()"
   ]
  },
  {
   "cell_type": "code",
   "execution_count": null,
   "metadata": {},
   "outputs": [],
   "source": []
  },
  {
   "cell_type": "code",
   "execution_count": null,
   "metadata": {},
   "outputs": [],
   "source": []
  }
 ],
 "metadata": {
  "kernelspec": {
   "display_name": "Python 3",
   "language": "python",
   "name": "python3"
  },
  "language_info": {
   "codemirror_mode": {
    "name": "ipython",
    "version": 3
   },
   "file_extension": ".py",
   "mimetype": "text/x-python",
   "name": "python",
   "nbconvert_exporter": "python",
   "pygments_lexer": "ipython3",
   "version": "3.8.5"
  }
 },
 "nbformat": 4,
 "nbformat_minor": 4
}
