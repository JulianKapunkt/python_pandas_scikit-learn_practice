{
 "cells": [
  {
   "cell_type": "code",
   "execution_count": 8,
   "metadata": {},
   "outputs": [
    {
     "ename": "TypeError",
     "evalue": "read_csv() got an unexpected keyword argument 'float_format'",
     "output_type": "error",
     "traceback": [
      "\u001b[1;31m---------------------------------------------------------------------------\u001b[0m",
      "\u001b[1;31mTypeError\u001b[0m                                 Traceback (most recent call last)",
      "\u001b[1;32m<ipython-input-8-16f2fc95590c>\u001b[0m in \u001b[0;36m<module>\u001b[1;34m\u001b[0m\n\u001b[0;32m      2\u001b[0m \u001b[1;32mimport\u001b[0m \u001b[0mpandas\u001b[0m \u001b[1;32mas\u001b[0m \u001b[0mpd\u001b[0m\u001b[1;33m\u001b[0m\u001b[1;33m\u001b[0m\u001b[0m\n\u001b[0;32m      3\u001b[0m \u001b[1;33m\u001b[0m\u001b[0m\n\u001b[1;32m----> 4\u001b[1;33m \u001b[0mdf\u001b[0m \u001b[1;33m=\u001b[0m \u001b[0mpd\u001b[0m\u001b[1;33m.\u001b[0m\u001b[0mread_csv\u001b[0m\u001b[1;33m(\u001b[0m\u001b[1;34m\"GlobalLandTemperaturesByMajorCity.csv\"\u001b[0m\u001b[1;33m,\u001b[0m \u001b[0mfloat_format\u001b[0m\u001b[1;33m=\u001b[0m\u001b[1;34m'%.3f'\u001b[0m\u001b[1;33m)\u001b[0m\u001b[1;33m\u001b[0m\u001b[1;33m\u001b[0m\u001b[0m\n\u001b[0m\u001b[0;32m      5\u001b[0m \u001b[1;33m\u001b[0m\u001b[0m\n\u001b[0;32m      6\u001b[0m \u001b[0mdf\u001b[0m\u001b[1;33m.\u001b[0m\u001b[0mhead\u001b[0m\u001b[1;33m(\u001b[0m\u001b[1;33m)\u001b[0m\u001b[1;33m\u001b[0m\u001b[1;33m\u001b[0m\u001b[0m\n",
      "\u001b[1;31mTypeError\u001b[0m: read_csv() got an unexpected keyword argument 'float_format'"
     ]
    }
   ],
   "source": [
    "import numpy as np\n",
    "import pandas as pd\n",
    "\n",
    "df = pd.read_csv(\"GlobalLandTemperaturesByMajorCity.csv\", float_format='%.3f')\n",
    "\n",
    "df.head()"
   ]
  },
  {
   "cell_type": "markdown",
   "metadata": {},
   "source": [
    "## Aufgabe 1: \n",
    "\n",
    "Wie viele Datensätze gibt es aus Spanien (\"Spain\")?"
   ]
  },
  {
   "cell_type": "code",
   "execution_count": 2,
   "metadata": {},
   "outputs": [
    {
     "data": {
      "text/plain": [
       "239177"
      ]
     },
     "execution_count": 2,
     "metadata": {},
     "output_type": "execute_result"
    }
   ],
   "source": [
    "len(df)"
   ]
  },
  {
   "cell_type": "markdown",
   "metadata": {},
   "source": [
    "## Aufgabe 2: \n",
    "\n",
    "Erstelle eine Variable `df_germany` mit einem DataFrame, welches nur die Einträge aus Deutschland enthält. Diese wirst du auch später nochmal benötigen.\n",
    "\n",
    "Was ist die niedrigste Temperatur, die nach den Daten in Deutschland gemessen wurde?\n",
    "Was ist die höchste Temperatur, die nach den Daten in Deutschland gemessen wurde?"
   ]
  },
  {
   "cell_type": "code",
   "execution_count": 3,
   "metadata": {},
   "outputs": [
    {
     "name": "stdout",
     "output_type": "stream",
     "text": [
      "-10.125\n",
      "23.795\n"
     ]
    }
   ],
   "source": [
    "df_germany = df[df[\"Country\"] == \"Germany\"]\n",
    "print(df_germany['AverageTemperature'].min())\n",
    "print(df_germany['AverageTemperature'].max())"
   ]
  },
  {
   "cell_type": "markdown",
   "metadata": {},
   "source": [
    "## Aufgabe 3: \n",
    "\n",
    "Für welches Land wurde eine höhere Temperatur (\"AverageTemperature\") gemessen: Deutschland (\"Germany\") oder Frankreich (\"France\")? Du kannst auch einfach nur die Maximaltemperatur der Messwerte jeweils für Deutschland bzw. Frankreich ausgeben."
   ]
  },
  {
   "cell_type": "code",
   "execution_count": 4,
   "metadata": {},
   "outputs": [
    {
     "name": "stdout",
     "output_type": "stream",
     "text": [
      "Deutschland: 23.795\n",
      "Frankreich: 23.264\n"
     ]
    }
   ],
   "source": [
    "df_france = df[df[\"Country\"] == \"France\"]\n",
    "print(\"Deutschland: \" + str(df_germany[\"AverageTemperature\"].max()))\n",
    "print(\"Frankreich: \" + str(df_france[\"AverageTemperature\"].max()))"
   ]
  },
  {
   "cell_type": "markdown",
   "metadata": {},
   "source": [
    "## Aufgabe 4: \n",
    "\n",
    "Wie oft gab es in Berlin \"ungemütliches\" Wetter? Ungemütlich soll hier heißen, dass es entweder kälter als -9°C war, oder wärmer als 22°C. \n",
    "\n",
    "Bitte beachte:\n",
    "- Du darfst hierbei vom `df_germany` aus starten (siehe Aufgabe #2)\n",
    "- Schreibe - wenn möglich - nur eine Zeile Code!"
   ]
  },
  {
   "cell_type": "code",
   "execution_count": 5,
   "metadata": {},
   "outputs": [
    {
     "data": {
      "text/plain": [
       "12"
      ]
     },
     "execution_count": 5,
     "metadata": {},
     "output_type": "execute_result"
    }
   ],
   "source": [
    "df_cold = df_germany[(df_germany[\"AverageTemperature\"] < -9) | (df_germany[\"AverageTemperature\"] > 22) ]\n",
    "len(df_cold)"
   ]
  },
  {
   "cell_type": "code",
   "execution_count": 6,
   "metadata": {},
   "outputs": [
    {
     "name": "stdout",
     "output_type": "stream",
     "text": [
      "12\n"
     ]
    }
   ],
   "source": [
    "print(len(df_germany.loc[(df_germany[\"AverageTemperature\"] < -9) | (df_germany[\"AverageTemperature\"] > 22) ]))\n"
   ]
  },
  {
   "cell_type": "markdown",
   "metadata": {},
   "source": [
    "## Aufgabe 5\n",
    "\n",
    "Was ist die tiefste Temperatur, die jemals in China gemessen wurde?\n",
    "\n",
    "**Hinweis:**\n",
    "- Schreibe hierzu nur eine Zeile Code!\n",
    "- Filtere die Daten gleichzeitig nach dem Land (\"China\") und extrahiere die Spalte \"AverageTemperature\" aus den Daten!\n",
    "- Tipp: Hier benötigst du die `.loc`-Schreibweise"
   ]
  },
  {
   "cell_type": "code",
   "execution_count": 7,
   "metadata": {},
   "outputs": [
    {
     "name": "stdout",
     "output_type": "stream",
     "text": [
      "-26.772\n"
     ]
    }
   ],
   "source": [
    "print(df.loc[df[\"Country\"] == \"China\"].min()[\"AverageTemperature\"])"
   ]
  },
  {
   "cell_type": "code",
   "execution_count": null,
   "metadata": {},
   "outputs": [],
   "source": []
  },
  {
   "cell_type": "code",
   "execution_count": null,
   "metadata": {},
   "outputs": [],
   "source": []
  }
 ],
 "metadata": {
  "kernelspec": {
   "display_name": "Python 3",
   "language": "python",
   "name": "python3"
  },
  "language_info": {
   "codemirror_mode": {
    "name": "ipython",
    "version": 3
   },
   "file_extension": ".py",
   "mimetype": "text/x-python",
   "name": "python",
   "nbconvert_exporter": "python",
   "pygments_lexer": "ipython3",
   "version": "3.8.5"
  }
 },
 "nbformat": 4,
 "nbformat_minor": 4
}
